{
 "cells": [
  {
   "cell_type": "code",
   "execution_count": 1,
   "id": "c0274584",
   "metadata": {},
   "outputs": [],
   "source": [
    "import numpy as np"
   ]
  },
  {
   "cell_type": "markdown",
   "id": "3195fb78",
   "metadata": {},
   "source": [
    "# DataType and Attrbutes"
   ]
  },
  {
   "cell_type": "code",
   "execution_count": 53,
   "id": "4a9013e3",
   "metadata": {},
   "outputs": [
    {
     "data": {
      "text/plain": [
       "array([1, 2, 3])"
      ]
     },
     "execution_count": 53,
     "metadata": {},
     "output_type": "execute_result"
    }
   ],
   "source": [
    "a1=np.array([1,2,3])\n",
    "a1"
   ]
  },
  {
   "cell_type": "code",
   "execution_count": 3,
   "id": "3bfcbb64",
   "metadata": {},
   "outputs": [
    {
     "data": {
      "text/plain": [
       "array([[1. , 2. , 3.2],\n",
       "       [1. , 2. , 3.2]])"
      ]
     },
     "execution_count": 3,
     "metadata": {},
     "output_type": "execute_result"
    }
   ],
   "source": [
    "a2=np.array([[1,2.0,3.2],[1,2.0,3.2]])\n",
    "a2"
   ]
  },
  {
   "cell_type": "code",
   "execution_count": 9,
   "id": "327686c5",
   "metadata": {},
   "outputs": [
    {
     "data": {
      "text/plain": [
       "array([[[1, 2, 3],\n",
       "        [1, 2, 3],\n",
       "        [1, 2, 3]],\n",
       "\n",
       "       [[1, 2, 3],\n",
       "        [2, 3, 4],\n",
       "        [4, 5, 6]]])"
      ]
     },
     "execution_count": 9,
     "metadata": {},
     "output_type": "execute_result"
    }
   ],
   "source": [
    "a3=np.array([[[1,2,3],[1,2,3],[1,2,3]],[[1,2,3],[2,3,4],[4,5,6]]])\n",
    "a3"
   ]
  },
  {
   "cell_type": "code",
   "execution_count": 10,
   "id": "1709822a",
   "metadata": {},
   "outputs": [
    {
     "data": {
      "text/plain": [
       "((3,), (2, 3), (2, 3, 3))"
      ]
     },
     "execution_count": 10,
     "metadata": {},
     "output_type": "execute_result"
    }
   ],
   "source": [
    "a1.shape,a2.shape,a3.shape"
   ]
  },
  {
   "cell_type": "code",
   "execution_count": 11,
   "id": "55ac72d5",
   "metadata": {},
   "outputs": [
    {
     "data": {
      "text/plain": [
       "(1, 2, 3)"
      ]
     },
     "execution_count": 11,
     "metadata": {},
     "output_type": "execute_result"
    }
   ],
   "source": [
    "a1.ndim,a2.ndim,a3.ndim"
   ]
  },
  {
   "cell_type": "code",
   "execution_count": 13,
   "id": "0e76fc05",
   "metadata": {},
   "outputs": [
    {
     "data": {
      "text/plain": [
       "(dtype('int32'), dtype('float64'), dtype('int32'))"
      ]
     },
     "execution_count": 13,
     "metadata": {},
     "output_type": "execute_result"
    }
   ],
   "source": [
    "a1.dtype,a2.dtype,a3.dtype"
   ]
  },
  {
   "cell_type": "code",
   "execution_count": 14,
   "id": "8ed00f05",
   "metadata": {},
   "outputs": [
    {
     "data": {
      "text/plain": [
       "(3, 6, 18)"
      ]
     },
     "execution_count": 14,
     "metadata": {},
     "output_type": "execute_result"
    }
   ],
   "source": [
    "a1.size,a2.size,a3.size"
   ]
  },
  {
   "cell_type": "code",
   "execution_count": 15,
   "id": "84af70ca",
   "metadata": {},
   "outputs": [
    {
     "data": {
      "text/plain": [
       "(numpy.ndarray, numpy.ndarray, numpy.ndarray)"
      ]
     },
     "execution_count": 15,
     "metadata": {},
     "output_type": "execute_result"
    }
   ],
   "source": [
    "type(a1),type(a2),type(a3)"
   ]
  },
  {
   "cell_type": "code",
   "execution_count": 17,
   "id": "bfe7aeaa",
   "metadata": {},
   "outputs": [],
   "source": [
    "import pandas as pd"
   ]
  },
  {
   "cell_type": "code",
   "execution_count": 20,
   "id": "1bf24af4",
   "metadata": {},
   "outputs": [
    {
     "data": {
      "text/html": [
       "<div>\n",
       "<style scoped>\n",
       "    .dataframe tbody tr th:only-of-type {\n",
       "        vertical-align: middle;\n",
       "    }\n",
       "\n",
       "    .dataframe tbody tr th {\n",
       "        vertical-align: top;\n",
       "    }\n",
       "\n",
       "    .dataframe thead th {\n",
       "        text-align: right;\n",
       "    }\n",
       "</style>\n",
       "<table border=\"1\" class=\"dataframe\">\n",
       "  <thead>\n",
       "    <tr style=\"text-align: right;\">\n",
       "      <th></th>\n",
       "      <th>0</th>\n",
       "      <th>1</th>\n",
       "      <th>2</th>\n",
       "    </tr>\n",
       "  </thead>\n",
       "  <tbody>\n",
       "    <tr>\n",
       "      <th>0</th>\n",
       "      <td>1.0</td>\n",
       "      <td>2.0</td>\n",
       "      <td>3.2</td>\n",
       "    </tr>\n",
       "    <tr>\n",
       "      <th>1</th>\n",
       "      <td>1.0</td>\n",
       "      <td>2.0</td>\n",
       "      <td>3.2</td>\n",
       "    </tr>\n",
       "  </tbody>\n",
       "</table>\n",
       "</div>"
      ],
      "text/plain": [
       "     0    1    2\n",
       "0  1.0  2.0  3.2\n",
       "1  1.0  2.0  3.2"
      ]
     },
     "execution_count": 20,
     "metadata": {},
     "output_type": "execute_result"
    }
   ],
   "source": [
    "df=pd.DataFrame(a2)\n",
    "df"
   ]
  },
  {
   "cell_type": "markdown",
   "id": "af364452",
   "metadata": {},
   "source": [
    "## Arrays"
   ]
  },
  {
   "cell_type": "code",
   "execution_count": 21,
   "id": "087de457",
   "metadata": {},
   "outputs": [
    {
     "data": {
      "text/plain": [
       "array([1, 3, 4])"
      ]
     },
     "execution_count": 21,
     "metadata": {},
     "output_type": "execute_result"
    }
   ],
   "source": [
    "sample_array=np.array([1,3,4])\n",
    "sample_array"
   ]
  },
  {
   "cell_type": "code",
   "execution_count": 22,
   "id": "747b52e6",
   "metadata": {},
   "outputs": [
    {
     "name": "stdout",
     "output_type": "stream",
     "text": [
      "[[1. 1. 1.]\n",
      " [1. 1. 1.]]\n"
     ]
    }
   ],
   "source": [
    "one=np.ones((2,3))#shift + tab\n",
    "print(one)"
   ]
  },
  {
   "cell_type": "code",
   "execution_count": 25,
   "id": "4cd15632",
   "metadata": {},
   "outputs": [
    {
     "data": {
      "text/plain": [
       "dtype('float64')"
      ]
     },
     "execution_count": 25,
     "metadata": {},
     "output_type": "execute_result"
    }
   ],
   "source": [
    "one.dtype"
   ]
  },
  {
   "cell_type": "code",
   "execution_count": 27,
   "id": "cd369a2f",
   "metadata": {},
   "outputs": [
    {
     "data": {
      "text/plain": [
       "array([0, 2, 4, 6, 8])"
      ]
     },
     "execution_count": 27,
     "metadata": {},
     "output_type": "execute_result"
    }
   ],
   "source": [
    "range_array=np.arange(0,10,2)\n",
    "range_array"
   ]
  },
  {
   "cell_type": "code",
   "execution_count": 30,
   "id": "125b304f",
   "metadata": {},
   "outputs": [
    {
     "data": {
      "text/plain": [
       "array([[1, 6, 2],\n",
       "       [0, 9, 0]])"
      ]
     },
     "execution_count": 30,
     "metadata": {},
     "output_type": "execute_result"
    }
   ],
   "source": [
    "r_array=np.random.randint(0,10,size=(2,3))\n",
    "r_array"
   ]
  },
  {
   "cell_type": "code",
   "execution_count": 31,
   "id": "1fdd34eb",
   "metadata": {},
   "outputs": [
    {
     "data": {
      "text/plain": [
       "array([[0.89854263, 0.51333796, 0.77832964],\n",
       "       [0.80558327, 0.84717249, 0.15393463]])"
      ]
     },
     "execution_count": 31,
     "metadata": {},
     "output_type": "execute_result"
    }
   ],
   "source": [
    "r=np.random.random((2,3))\n",
    "r"
   ]
  },
  {
   "cell_type": "code",
   "execution_count": 37,
   "id": "43b38a82",
   "metadata": {},
   "outputs": [
    {
     "data": {
      "text/plain": [
       "array([[0.4359949 , 0.02592623, 0.54966248, 0.43532239],\n",
       "       [0.4203678 , 0.33033482, 0.20464863, 0.61927097],\n",
       "       [0.29965467, 0.26682728, 0.62113383, 0.52914209],\n",
       "       [0.13457995, 0.51357812, 0.18443987, 0.78533515],\n",
       "       [0.85397529, 0.49423684, 0.84656149, 0.07964548]])"
      ]
     },
     "execution_count": 37,
     "metadata": {},
     "output_type": "execute_result"
    }
   ],
   "source": [
    "#psudo random numbers\n",
    "np.random.seed(seed=2)\n",
    "r_a=np.random.random((5,4))\n",
    "r_a"
   ]
  },
  {
   "cell_type": "markdown",
   "id": "961fedec",
   "metadata": {},
   "source": [
    "## viewing arrays and matrices"
   ]
  },
  {
   "cell_type": "code",
   "execution_count": 38,
   "id": "f960c786",
   "metadata": {},
   "outputs": [
    {
     "data": {
      "text/plain": [
       "array([0.02592623, 0.07964548, 0.13457995, 0.18443987, 0.20464863,\n",
       "       0.26682728, 0.29965467, 0.33033482, 0.4203678 , 0.43532239,\n",
       "       0.4359949 , 0.49423684, 0.51357812, 0.52914209, 0.54966248,\n",
       "       0.61927097, 0.62113383, 0.78533515, 0.84656149, 0.85397529])"
      ]
     },
     "execution_count": 38,
     "metadata": {},
     "output_type": "execute_result"
    }
   ],
   "source": [
    "np.unique(r_a)"
   ]
  },
  {
   "cell_type": "code",
   "execution_count": 39,
   "id": "3c1462e6",
   "metadata": {},
   "outputs": [
    {
     "data": {
      "text/plain": [
       "array([1. , 2. , 3.2])"
      ]
     },
     "execution_count": 39,
     "metadata": {},
     "output_type": "execute_result"
    }
   ],
   "source": [
    "a2[0]"
   ]
  },
  {
   "cell_type": "code",
   "execution_count": 40,
   "id": "2d8286b6",
   "metadata": {},
   "outputs": [
    {
     "data": {
      "text/plain": [
       "array([[[1, 2, 3],\n",
       "        [1, 2, 3],\n",
       "        [1, 2, 3]],\n",
       "\n",
       "       [[1, 2, 3],\n",
       "        [2, 3, 4],\n",
       "        [4, 5, 6]]])"
      ]
     },
     "execution_count": 40,
     "metadata": {},
     "output_type": "execute_result"
    }
   ],
   "source": [
    "a3"
   ]
  },
  {
   "cell_type": "code",
   "execution_count": 42,
   "id": "bb4d48d9",
   "metadata": {},
   "outputs": [
    {
     "data": {
      "text/plain": [
       "array([[[1, 2],\n",
       "        [1, 2]],\n",
       "\n",
       "       [[1, 2],\n",
       "        [2, 3]]])"
      ]
     },
     "execution_count": 42,
     "metadata": {},
     "output_type": "execute_result"
    }
   ],
   "source": [
    "a3[:2,:2,:2]"
   ]
  },
  {
   "cell_type": "code",
   "execution_count": 44,
   "id": "144a4c25",
   "metadata": {},
   "outputs": [
    {
     "data": {
      "text/plain": [
       "array([[[[4, 6, 3, 9, 2],\n",
       "         [0, 4, 2, 4, 1],\n",
       "         [7, 8, 2, 9, 8],\n",
       "         [7, 1, 6, 8, 5]],\n",
       "\n",
       "        [[9, 9, 9, 3, 0],\n",
       "         [0, 2, 8, 8, 2],\n",
       "         [9, 6, 5, 6, 6],\n",
       "         [6, 3, 8, 2, 1]],\n",
       "\n",
       "        [[4, 8, 1, 6, 9],\n",
       "         [5, 1, 2, 4, 7],\n",
       "         [6, 4, 5, 8, 3],\n",
       "         [0, 0, 5, 7, 5]]],\n",
       "\n",
       "\n",
       "       [[[0, 8, 6, 5, 1],\n",
       "         [7, 4, 3, 6, 1],\n",
       "         [4, 0, 8, 5, 4],\n",
       "         [2, 9, 7, 1, 9]],\n",
       "\n",
       "        [[2, 1, 0, 7, 1],\n",
       "         [8, 9, 0, 7, 0],\n",
       "         [5, 2, 5, 1, 3],\n",
       "         [3, 1, 8, 6, 8]],\n",
       "\n",
       "        [[1, 5, 7, 0, 9],\n",
       "         [1, 5, 9, 2, 0],\n",
       "         [0, 4, 6, 3, 1],\n",
       "         [8, 5, 9, 5, 4]]]])"
      ]
     },
     "execution_count": 44,
     "metadata": {},
     "output_type": "execute_result"
    }
   ],
   "source": [
    "a4=np.random.randint(10,size=(2,3,4,5))\n",
    "a4"
   ]
  },
  {
   "cell_type": "code",
   "execution_count": 45,
   "id": "42ff7b92",
   "metadata": {},
   "outputs": [
    {
     "data": {
      "text/plain": [
       "array([[[[4, 6, 3],\n",
       "         [0, 4, 2],\n",
       "         [7, 8, 2],\n",
       "         [7, 1, 6]],\n",
       "\n",
       "        [[9, 9, 9],\n",
       "         [0, 2, 8],\n",
       "         [9, 6, 5],\n",
       "         [6, 3, 8]],\n",
       "\n",
       "        [[4, 8, 1],\n",
       "         [5, 1, 2],\n",
       "         [6, 4, 5],\n",
       "         [0, 0, 5]]],\n",
       "\n",
       "\n",
       "       [[[0, 8, 6],\n",
       "         [7, 4, 3],\n",
       "         [4, 0, 8],\n",
       "         [2, 9, 7]],\n",
       "\n",
       "        [[2, 1, 0],\n",
       "         [8, 9, 0],\n",
       "         [5, 2, 5],\n",
       "         [3, 1, 8]],\n",
       "\n",
       "        [[1, 5, 7],\n",
       "         [1, 5, 9],\n",
       "         [0, 4, 6],\n",
       "         [8, 5, 9]]]])"
      ]
     },
     "execution_count": 45,
     "metadata": {},
     "output_type": "execute_result"
    }
   ],
   "source": [
    "a4[:,:,:,:3]"
   ]
  },
  {
   "cell_type": "markdown",
   "id": "d91dec48",
   "metadata": {},
   "source": [
    "## Manipultaing arrays"
   ]
  },
  {
   "cell_type": "markdown",
   "id": "4741141c",
   "metadata": {},
   "source": [
    "# Arithmetic "
   ]
  },
  {
   "cell_type": "code",
   "execution_count": 54,
   "id": "5c2b0a28",
   "metadata": {},
   "outputs": [
    {
     "data": {
      "text/plain": [
       "array([1, 2, 3])"
      ]
     },
     "execution_count": 54,
     "metadata": {},
     "output_type": "execute_result"
    }
   ],
   "source": [
    "a1"
   ]
  },
  {
   "cell_type": "code",
   "execution_count": 49,
   "id": "feeedeeb",
   "metadata": {},
   "outputs": [
    {
     "data": {
      "text/plain": [
       "array([1., 1., 1.])"
      ]
     },
     "execution_count": 49,
     "metadata": {},
     "output_type": "execute_result"
    }
   ],
   "source": [
    "one=np.ones(3)\n",
    "one"
   ]
  },
  {
   "cell_type": "code",
   "execution_count": 55,
   "id": "7be8b6bf",
   "metadata": {},
   "outputs": [
    {
     "data": {
      "text/plain": [
       "array([2., 3., 4.])"
      ]
     },
     "execution_count": 55,
     "metadata": {},
     "output_type": "execute_result"
    }
   ],
   "source": [
    "a1+one"
   ]
  },
  {
   "cell_type": "code",
   "execution_count": 56,
   "id": "2a59d5f3",
   "metadata": {},
   "outputs": [
    {
     "data": {
      "text/plain": [
       "array([[1. , 2. , 3.2],\n",
       "       [1. , 2. , 3.2]])"
      ]
     },
     "execution_count": 56,
     "metadata": {},
     "output_type": "execute_result"
    }
   ],
   "source": [
    "a2"
   ]
  },
  {
   "cell_type": "code",
   "execution_count": 57,
   "id": "02a77a62",
   "metadata": {},
   "outputs": [
    {
     "data": {
      "text/plain": [
       "array([[1. , 4. , 9.6],\n",
       "       [1. , 4. , 9.6]])"
      ]
     },
     "execution_count": 57,
     "metadata": {},
     "output_type": "execute_result"
    }
   ],
   "source": [
    "a1*a2"
   ]
  },
  {
   "cell_type": "code",
   "execution_count": null,
   "id": "231d1bbe",
   "metadata": {},
   "outputs": [],
   "source": []
  }
 ],
 "metadata": {
  "kernelspec": {
   "display_name": "Python 3 (ipykernel)",
   "language": "python",
   "name": "python3"
  },
  "language_info": {
   "codemirror_mode": {
    "name": "ipython",
    "version": 3
   },
   "file_extension": ".py",
   "mimetype": "text/x-python",
   "name": "python",
   "nbconvert_exporter": "python",
   "pygments_lexer": "ipython3",
   "version": "3.11.3"
  }
 },
 "nbformat": 4,
 "nbformat_minor": 5
}
